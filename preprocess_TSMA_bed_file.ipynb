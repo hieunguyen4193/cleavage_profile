{
 "cells": [
  {
   "cell_type": "code",
   "execution_count": 5,
   "id": "ed5c8ed1",
   "metadata": {},
   "outputs": [
    {
     "name": "stderr",
     "output_type": "stream",
     "text": [
      "/tmp/ipykernel_41044/3806207333.py:4: FutureWarning: Series.__getitem__ treating keys as positions is deprecated. In a future version, integer keys will always be treated as labels (consistent with DataFrame behavior). To access a value by position, use `ser.iloc[pos]`\n",
      "  df[\"region\"] = df[[\"chromosome\", \"coord.Start\", \"coord.End\"]].apply(lambda x: f\"{x[0]}:{x[1]}-{x[2]}\", axis=1)\n"
     ]
    }
   ],
   "source": [
    "import pandas as pd \n",
    "\n",
    "df = pd.read_excel(\"./methyl_regions/TSMA.xlsx\")\n",
    "df[\"region\"] = df[[\"chromosome\", \"coord.Start\", \"coord.End\"]].apply(lambda x: f\"{x[0]}:{x[1]}-{x[2]}\", axis=1)\n",
    "for group in df.Group.unique():\n",
    "    tmpdf = df[df[\"Group\"] == group]\n",
    "    tmpdf[[\"chromosome\", \"coord.Start\", \"coord.End\", \"region\", \"symbol\", \"Group\"]].to_csv(f\"./methyl_regions/TSMA_{group}.bed\", sep=\"\\t\", index=False, header=False)"
   ]
  }
 ],
 "metadata": {
  "kernelspec": {
   "display_name": "pytorch",
   "language": "python",
   "name": "python3"
  },
  "language_info": {
   "codemirror_mode": {
    "name": "ipython",
    "version": 3
   },
   "file_extension": ".py",
   "mimetype": "text/x-python",
   "name": "python",
   "nbconvert_exporter": "python",
   "pygments_lexer": "ipython3",
   "version": "3.9.19"
  }
 },
 "nbformat": 4,
 "nbformat_minor": 5
}
