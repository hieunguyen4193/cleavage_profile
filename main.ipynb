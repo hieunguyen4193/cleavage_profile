{
 "cells": [
  {
   "cell_type": "code",
   "execution_count": 1,
   "id": "b0ba5caa",
   "metadata": {},
   "outputs": [
    {
     "name": "stderr",
     "output_type": "stream",
     "text": [
      "100%|██████████| 500/500 [00:04<00:00, 107.74it/s]\n"
     ]
    }
   ],
   "source": [
    "import numpy as np \n",
    "import pandas as pd \n",
    "\n",
    "import matplotlib.pyplot as plt\n",
    "from helper_functions import *\n",
    "import pysam\n",
    "import pyfaidx\n",
    "import os\n",
    "from tqdm import tqdm\n",
    "\n",
    "import warnings\n",
    "warnings.filterwarnings(\"ignore\")\n",
    "\n",
    "path_to_bam_file = \"/media/hieunguyen/GSHD_HN01/raw_data/bam_files/WGShg19.bam\"\n",
    "path_to_all_fa = \"/media/hieunguyen/GSHD_HN01/storage/resources/hg19\"\n",
    "path_to_bed_file = \"./methyl_regions/TSMA_Lung.bed\"\n",
    "\n",
    "read_len = 50\n",
    "radius = 5\n",
    "##### fetch reads\n",
    "bedfile = pd.read_csv(path_to_bed_file, sep=\"\\t\", header=None)[[0,1,2,3]]\n",
    "bedfile.columns = [\"chrom\", \"start\", \"end\", \"region\"]\n",
    "\n",
    "readdf = pd.DataFrame()\n",
    "for region in tqdm(bedfile.region.unique()):\n",
    "    tmp_readdf = fetch_reads(path_to_bam_file, \"chr{}\".format(region))\n",
    "    tmp_readdf[\"region\"] = region\n",
    "    readdf = pd.concat([readdf, tmp_readdf])\n",
    "\n",
    "##### fix the type of variable for each column in the dataframe.\n",
    "readdf[\"chrom\"] = readdf[\"chrom\"].astype(str)\n",
    "readdf[\"region\"] = readdf[\"region\"].astype(str)\n",
    "readdf[\"start\"] = readdf[\"start\"].astype(int)\n",
    "readdf[\"flen\"] = readdf[\"flen\"].astype(int)\n",
    "\n",
    "##### modify the starting position of the read on reverse strand, negative flen\n",
    "readdf[\"start\"] = readdf[[\"start\", \"flen\"]].apply(lambda x: x[0] if x[1] > 0 else x[0] + read_len, axis=1)\n",
    "\n",
    "##### calculate distance between read and nearest CpG site\n",
    "readdf[\"dist_to_nearest_cpg\"] = readdf[[\"chrom\", \"start\"]].apply(lambda x: get_min_dist_to_cpg(x[0], x[1], path_to_all_fa, radius), axis=1)\n",
    "\n",
    "# plotdf = readdf[readdf[\"dist_to_nearest_cpg\"] != \"NA\"].groupby(\"dist_to_nearest_cpg\")[\"start\"].count().reset_index()\n",
    "# plotdf.columns = [\"dist\", \"count\"]\n",
    "# plotdf[\"freq\"] = plotdf[\"count\"] / plotdf[\"count\"].sum()\n",
    "# sns.barplot(data = plotdf, x = \"dist\", y = \"freq\")"
   ]
  }
 ],
 "metadata": {
  "kernelspec": {
   "display_name": "pytorch",
   "language": "python",
   "name": "python3"
  },
  "language_info": {
   "codemirror_mode": {
    "name": "ipython",
    "version": 3
   },
   "file_extension": ".py",
   "mimetype": "text/x-python",
   "name": "python",
   "nbconvert_exporter": "python",
   "pygments_lexer": "ipython3",
   "version": "3.9.19"
  }
 },
 "nbformat": 4,
 "nbformat_minor": 5
}
